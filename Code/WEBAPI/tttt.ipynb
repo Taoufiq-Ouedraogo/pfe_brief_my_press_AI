{
 "cells": [
  {
   "cell_type": "code",
   "execution_count": 3,
   "metadata": {},
   "outputs": [
    {
     "name": "stdout",
     "output_type": "stream",
     "text": [
      "Collecting git+https://github.com/Taoufiq-Ouedraogo/Brief-My-Press-AI-Library.git\n",
      "  Cloning https://github.com/Taoufiq-Ouedraogo/Brief-My-Press-AI-Library.git to /private/var/folders/j6/b2tmcfy95pbc2c4bh143v2dc0000gn/T/pip-req-build-fbk3ttkp\n",
      "  Running command git clone --filter=blob:none --quiet https://github.com/Taoufiq-Ouedraogo/Brief-My-Press-AI-Library.git /private/var/folders/j6/b2tmcfy95pbc2c4bh143v2dc0000gn/T/pip-req-build-fbk3ttkp\n",
      "  Resolved https://github.com/Taoufiq-Ouedraogo/Brief-My-Press-AI-Library.git to commit e49d2c99a7ea1b926e37e7571529ddd79a131802\n",
      "  Preparing metadata (setup.py) ... \u001b[?25ldone\n",
      "\u001b[?25hRequirement already satisfied: setuptools in /opt/anaconda3/lib/python3.12/site-packages (from bmp_lib==0.1) (75.1.0)\n",
      "Requirement already satisfied: wheel in /opt/anaconda3/lib/python3.12/site-packages (from bmp_lib==0.1) (0.43.0)\n",
      "Collecting twine (from bmp_lib==0.1)\n",
      "  Using cached twine-6.1.0-py3-none-any.whl.metadata (3.7 kB)\n",
      "Requirement already satisfied: requests in /opt/anaconda3/lib/python3.12/site-packages (from bmp_lib==0.1) (2.32.3)\n",
      "Requirement already satisfied: ipywidgets in /opt/anaconda3/lib/python3.12/site-packages (from bmp_lib==0.1) (7.8.1)\n",
      "Requirement already satisfied: transformers in /opt/anaconda3/lib/python3.12/site-packages (from bmp_lib==0.1) (4.37.2)\n",
      "Requirement already satisfied: openai in /opt/anaconda3/lib/python3.12/site-packages (from bmp_lib==0.1) (0.28.0)\n",
      "Requirement already satisfied: python-dotenv in /opt/anaconda3/lib/python3.12/site-packages (from bmp_lib==0.1) (0.21.0)\n",
      "Collecting spacy (from bmp_lib==0.1)\n",
      "  Using cached spacy-3.8.4-cp312-cp312-macosx_11_0_arm64.whl.metadata (27 kB)\n",
      "Requirement already satisfied: gTTS in /opt/anaconda3/lib/python3.12/site-packages (from bmp_lib==0.1) (2.5.3)\n",
      "Requirement already satisfied: flask in /opt/anaconda3/lib/python3.12/site-packages (from bmp_lib==0.1) (2.2.5)\n",
      "INFO: pip is looking at multiple versions of bmp-lib to determine which version is compatible with other requirements. This could take a while.\n",
      "\u001b[31mERROR: Could not find a version that satisfies the requirement io (from bmp-lib) (from versions: none)\u001b[0m\u001b[31m\n",
      "\u001b[0m\u001b[31mERROR: No matching distribution found for io\u001b[0m\u001b[31m\n",
      "\u001b[0m"
     ]
    }
   ],
   "source": [
    "!pip install git+https://github.com/Taoufiq-Ouedraogo/Brief-My-Press-AI-Library.git\n"
   ]
  },
  {
   "cell_type": "code",
   "execution_count": 4,
   "metadata": {},
   "outputs": [
    {
     "ename": "ModuleNotFoundError",
     "evalue": "No module named 'bmp_lib'",
     "output_type": "error",
     "traceback": [
      "\u001b[0;31m---------------------------------------------------------------------------\u001b[0m",
      "\u001b[0;31mModuleNotFoundError\u001b[0m                       Traceback (most recent call last)",
      "Cell \u001b[0;32mIn[4], line 1\u001b[0m\n\u001b[0;32m----> 1\u001b[0m \u001b[38;5;28;01mfrom\u001b[39;00m \u001b[38;5;21;01mbmp_lib\u001b[39;00m \u001b[38;5;28;01mimport\u001b[39;00m \u001b[38;5;241m*\u001b[39m\n",
      "\u001b[0;31mModuleNotFoundError\u001b[0m: No module named 'bmp_lib'"
     ]
    }
   ],
   "source": [
    "from bmp_lib import *"
   ]
  },
  {
   "cell_type": "code",
   "execution_count": 9,
   "metadata": {},
   "outputs": [
    {
     "name": "stdout",
     "output_type": "stream",
     "text": [
      "Collecting git+https://github.com/Taoufiq-Ouedraogo/Brief-My-Press-AI-Library\n",
      "  Cloning https://github.com/Taoufiq-Ouedraogo/Brief-My-Press-AI-Library to /private/var/folders/j6/b2tmcfy95pbc2c4bh143v2dc0000gn/T/pip-req-build-01x7efkf\n",
      "  Running command git clone --filter=blob:none --quiet https://github.com/Taoufiq-Ouedraogo/Brief-My-Press-AI-Library /private/var/folders/j6/b2tmcfy95pbc2c4bh143v2dc0000gn/T/pip-req-build-01x7efkf\n",
      "  Resolved https://github.com/Taoufiq-Ouedraogo/Brief-My-Press-AI-Library to commit f21148e9af36352499fe318f3e9c8608a35e8161\n",
      "  Preparing metadata (setup.py) ... \u001b[?25ldone\n",
      "\u001b[?25hRequirement already satisfied: setuptools in /opt/anaconda3/lib/python3.12/site-packages (from bmp_lib==0.1) (75.1.0)\n",
      "Requirement already satisfied: wheel in /opt/anaconda3/lib/python3.12/site-packages (from bmp_lib==0.1) (0.43.0)\n",
      "Collecting twine (from bmp_lib==0.1)\n",
      "  Using cached twine-6.1.0-py3-none-any.whl.metadata (3.7 kB)\n",
      "Requirement already satisfied: ipywidgets in /opt/anaconda3/lib/python3.12/site-packages (from bmp_lib==0.1) (7.8.1)\n",
      "Requirement already satisfied: transformers in /opt/anaconda3/lib/python3.12/site-packages (from bmp_lib==0.1) (4.37.2)\n",
      "Requirement already satisfied: openai in /opt/anaconda3/lib/python3.12/site-packages (from bmp_lib==0.1) (0.28.0)\n",
      "Requirement already satisfied: python-dotenv in /opt/anaconda3/lib/python3.12/site-packages (from bmp_lib==0.1) (0.21.0)\n",
      "Collecting spacy (from bmp_lib==0.1)\n",
      "  Using cached spacy-3.8.4-cp312-cp312-macosx_11_0_arm64.whl.metadata (27 kB)\n",
      "Requirement already satisfied: gTTS in /opt/anaconda3/lib/python3.12/site-packages (from bmp_lib==0.1) (2.5.3)\n",
      "Requirement already satisfied: ipykernel in /opt/anaconda3/lib/python3.12/site-packages (from bmp_lib==0.1) (6.28.0)\n",
      "Requirement already satisfied: requests in /opt/anaconda3/lib/python3.12/site-packages (from bmp_lib==0.1) (2.32.3)\n",
      "Requirement already satisfied: openpyxl in /opt/anaconda3/lib/python3.12/site-packages (from bmp_lib==0.1) (3.1.2)\n",
      "INFO: pip is looking at multiple versions of bmp-lib to determine which version is compatible with other requirements. This could take a while.\n",
      "\u001b[31mERROR: Package 'bmp-lib' requires a different Python: 3.12.4 not in '<3.12,>=3.9'\u001b[0m\u001b[31m\n",
      "\u001b[0m"
     ]
    }
   ],
   "source": [
    "!pip install git+https://github.com/Taoufiq-Ouedraogo/Brief-My-Press-AI-Library"
   ]
  },
  {
   "cell_type": "code",
   "execution_count": null,
   "metadata": {},
   "outputs": [],
   "source": []
  }
 ],
 "metadata": {
  "kernelspec": {
   "display_name": "base",
   "language": "python",
   "name": "python3"
  },
  "language_info": {
   "codemirror_mode": {
    "name": "ipython",
    "version": 3
   },
   "file_extension": ".py",
   "mimetype": "text/x-python",
   "name": "python",
   "nbconvert_exporter": "python",
   "pygments_lexer": "ipython3",
   "version": "3.12.4"
  }
 },
 "nbformat": 4,
 "nbformat_minor": 2
}
