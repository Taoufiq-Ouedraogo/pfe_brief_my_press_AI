{
 "cells": [
  {
   "cell_type": "code",
   "execution_count": 2,
   "metadata": {},
   "outputs": [
    {
     "name": "stdout",
     "output_type": "stream",
     "text": [
      "Collecting bmp_lib@ git+https://github.com/Taoufiq-Ouedraogo/Brief-My-Press-AI-Library/bmp_lib\n",
      "  Cloning https://github.com/Taoufiq-Ouedraogo/Brief-My-Press-AI-Library/bmp_lib to /private/var/folders/j6/b2tmcfy95pbc2c4bh143v2dc0000gn/T/pip-install-w861a7g4/bmp-lib_3059eca913ab4fdd9e15f52d99641504\n",
      "  Running command git clone --filter=blob:none --quiet https://github.com/Taoufiq-Ouedraogo/Brief-My-Press-AI-Library/bmp_lib /private/var/folders/j6/b2tmcfy95pbc2c4bh143v2dc0000gn/T/pip-install-w861a7g4/bmp-lib_3059eca913ab4fdd9e15f52d99641504\n",
      "  remote: Not Found\n",
      "  fatal: repository 'https://github.com/Taoufiq-Ouedraogo/Brief-My-Press-AI-Library/bmp_lib/' not found\n",
      "  \u001b[1;31merror\u001b[0m: \u001b[1msubprocess-exited-with-error\u001b[0m\n",
      "  \n",
      "  \u001b[31m×\u001b[0m \u001b[32mgit clone --\u001b[0m\u001b[32mfilter\u001b[0m\u001b[32m=\u001b[0m\u001b[32mblob\u001b[0m\u001b[32m:none --quiet \u001b[0m\u001b[4;32mhttps://github.com/Taoufiq-Ouedraogo/Brief-My-Press-AI-Library/bmp_lib\u001b[0m\u001b[32m \u001b[0m\u001b[32m/private/var/folders/j6/b2tmcfy95pbc2c4bh143v2dc0000gn/T/pip-install-w861a7g4/\u001b[0m\u001b[32mbmp-lib_3059eca913ab4fdd9e15f52d99641504\u001b[0m did not run successfully.\n",
      "  \u001b[31m│\u001b[0m exit code: \u001b[1;36m128\u001b[0m\n",
      "  \u001b[31m╰─>\u001b[0m See above for output.\n",
      "  \n",
      "  \u001b[1;35mnote\u001b[0m: This error originates from a subprocess, and is likely not a problem with pip.\n",
      "\u001b[1;31merror\u001b[0m: \u001b[1msubprocess-exited-with-error\u001b[0m\n",
      "\n",
      "\u001b[31m×\u001b[0m \u001b[32mgit clone --\u001b[0m\u001b[32mfilter\u001b[0m\u001b[32m=\u001b[0m\u001b[32mblob\u001b[0m\u001b[32m:none --quiet \u001b[0m\u001b[4;32mhttps://github.com/Taoufiq-Ouedraogo/Brief-My-Press-AI-Library/bmp_lib\u001b[0m\u001b[32m \u001b[0m\u001b[32m/private/var/folders/j6/b2tmcfy95pbc2c4bh143v2dc0000gn/T/pip-install-w861a7g4/\u001b[0m\u001b[32mbmp-lib_3059eca913ab4fdd9e15f52d99641504\u001b[0m did not run successfully.\n",
      "\u001b[31m│\u001b[0m exit code: \u001b[1;36m128\u001b[0m\n",
      "\u001b[31m╰─>\u001b[0m See above for output.\n",
      "\n",
      "\u001b[1;35mnote\u001b[0m: This error originates from a subprocess, and is likely not a problem with pip.\n"
     ]
    }
   ],
   "source": [
    "!pip install bmp_lib@git+https://github.com/Taoufiq-Ouedraogo/Brief-My-Press-AI-Library/bmp_lib\n"
   ]
  },
  {
   "cell_type": "code",
   "execution_count": null,
   "metadata": {},
   "outputs": [],
   "source": []
  }
 ],
 "metadata": {
  "kernelspec": {
   "display_name": "base",
   "language": "python",
   "name": "python3"
  },
  "language_info": {
   "codemirror_mode": {
    "name": "ipython",
    "version": 3
   },
   "file_extension": ".py",
   "mimetype": "text/x-python",
   "name": "python",
   "nbconvert_exporter": "python",
   "pygments_lexer": "ipython3",
   "version": "3.12.4"
  }
 },
 "nbformat": 4,
 "nbformat_minor": 2
}
